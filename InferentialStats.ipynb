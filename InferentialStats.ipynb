{
 "cells": [
  {
   "attachments": {},
   "cell_type": "markdown",
   "metadata": {},
   "source": [
    "## Making Statistical Inferences\n",
    "\n",
    "### Hypothesis testing:\n",
    "\n",
    "Hypothesis testing is used to help make a judgment about a claim addressing the question, ‘can the observed differences be attributed to chance?’\n",
    "\n",
    "### Continuous Outcome Data\n",
    "\n",
    "Problem: Can we conclude patients with primary hypertension (PH), on average, have a higher\n",
    "total cholesterol level than normotensive (NT) patients? \n",
    "\n",
    "Data: A random sample of patients was taken. Total cholesterol measurements (mg/dl) for 133 PH patients (Group 1) and 41 NT patients (Group 2) were reported."
   ]
  },
  {
   "cell_type": "code",
   "execution_count": null,
   "metadata": {},
   "outputs": [],
   "source": [
    "Example_1=read.csv(\"Dataset1.csv\", sep=\",\", header=T)\n",
    "colnames(Example_1)<-c(\"Cholesterol\", \"Group\")"
   ]
  },
  {
   "cell_type": "markdown",
   "metadata": {},
   "source": [
    "Is this about averages?\n",
    "\n",
    "Is our sample random?\n",
    "\n",
    "Is this paired or independent sample data?\n",
    "\n",
    "Does this data come from a normal or approximately normal distribution?\n",
    "\n",
    "Remember CLT! "
   ]
  },
  {
   "cell_type": "code",
   "execution_count": null,
   "metadata": {},
   "outputs": [],
   "source": [
    "#n1=133\n",
    "n1=length(Example_1[Example_1[,2]==1,][,2])\n",
    "n1\n",
    "#n2=41\n",
    "n2=length(Example_1[Example_1[,2]==2,][,2])\n",
    "n2"
   ]
  },
  {
   "cell_type": "markdown",
   "metadata": {},
   "source": [
    "Both are greater than 30, so CLT applies"
   ]
  },
  {
   "cell_type": "markdown",
   "metadata": {},
   "source": [
    "### Check Assumptions: histograms and normal probability plots"
   ]
  },
  {
   "cell_type": "code",
   "execution_count": null,
   "metadata": {},
   "outputs": [],
   "source": [
    "par(mfrow=c(2,2))\n",
    "hist(Example_1[Example_1[,2]==1,][,1], main=\"Histogram of Cholesterol for PH patients\", xlab=\"Cholesterol\")\n",
    "hist(Example_1[Example_1[,2]==2,][,1], main=\"Histogram of Cholesterol for NT patients\", xlab=\"Cholesterol\")\n",
    "qqnorm(Example_1[Example_1[,2]==1,][,1])\n",
    "qqnorm(Example_1[Example_1[,2]==2,][,1])"
   ]
  },
  {
   "cell_type": "markdown",
   "metadata": {},
   "source": [
    "### Check Assumptions: variances equal?"
   ]
  },
  {
   "cell_type": "code",
   "execution_count": null,
   "metadata": {},
   "outputs": [],
   "source": [
    "par(mfrow=c(1,1))\n",
    "boxplot(Example_1$Cholesterol~Example_1$Group)\n",
    "sqrt(var(Example_1[Example_1[,2]==1,][,1]))\n",
    "sqrt(var(Example_1[Example_1[,2]==2,][,1]))\n",
    "\n",
    "#res.ftest <- var.test(Example_1$Cholesterol~Example_1$Group)\n",
    "#res.ftest"
   ]
  },
  {
   "cell_type": "markdown",
   "metadata": {},
   "source": [
    "### State hypotheses:\n",
    "\n",
    "Can we conclude patients with primary hypertension (PH), on average, have a higher\n",
    "total cholesterol level than normotensive (NT) patients? \n",
    "\n",
    "$H_0:\\mu_{ph}=\\mu_{nt}$\n",
    "\n",
    "$H_a: \\mu_{ph} > \\mu_{nt}$\n"
   ]
  },
  {
   "cell_type": "code",
   "execution_count": null,
   "metadata": {},
   "outputs": [],
   "source": [
    "# Test with equal variances\n",
    "T1=t.test(Example_1$Cholesterol~Example_1$Group, alternative=\"greater\", var.equal=T)\n",
    "T1\n",
    "# What if our samples had unequal variances?\n",
    "T2=t.test(Example_1$Cholesterol~Example_1$Group, alternative=\"greater\", var.equal=F)\n",
    "T2"
   ]
  },
  {
   "cell_type": "code",
   "execution_count": null,
   "metadata": {},
   "outputs": [],
   "source": [
    "?t.test"
   ]
  },
  {
   "cell_type": "markdown",
   "metadata": {},
   "source": [
    "Our test statistic is t=3.953 with df=172 and a p-value of .0000562.  \n",
    "\n",
    "This p-value is very small, so we reject $H_0$ and say that the true difference in the means of cholesterol between PH and NT patients is greater than 0.  \n",
    "\n",
    "OR, we could say: The true mean of PH patient's cholesterol is greater than the true mean of NT patient's cholesterol.\n",
    "\n",
    "The mean difference between PH and NT patients has a 95% confidence interval of (12.417, infinity) \n",
    "    * (remember: it is infinity because it is a one-sided test)\n",
    "\n",
    "## some other alternative hypotheses: how a p-value is calculated\n",
    "### $H_A: \\mu_{ph} < \\mu_{nt}$"
   ]
  },
  {
   "cell_type": "code",
   "execution_count": null,
   "metadata": {},
   "outputs": [],
   "source": [
    "t.test(Example_1$Cholesterol~Example_1$Group, alternative=\"less\", var.equal=T)\n",
    "##note: \n",
    "1-T1$p.value"
   ]
  },
  {
   "cell_type": "markdown",
   "metadata": {},
   "source": [
    "### $H_A: \\mu_{ph} \\neq \\mu_{nt}$"
   ]
  },
  {
   "cell_type": "code",
   "execution_count": null,
   "metadata": {},
   "outputs": [],
   "source": [
    "t.test(Example_1$Cholesterol~Example_1$Group, alternative=\"two.sided\", var.equal=T)\n",
    "2*T1$p.value\n",
    "#Note: Since this is a two-sided test, the 95% confidence interval is bounded by two sides--(10.77, 32.26)"
   ]
  },
  {
   "cell_type": "markdown",
   "metadata": {},
   "source": [
    "## Categorical Outcome Data\n",
    "\n",
    "If samples of a standard pool of cytomegalovirus are inoculated into shell vials and these vials are then randomly processed either with or without centrifugation,\n",
    "the groups of vials are independent of one another and the results of the experiment [citation](https://journals.asm.org/doi/abs/10.1128/cmr.3.3.219):"
   ]
  },
  {
   "cell_type": "code",
   "execution_count": null,
   "metadata": {},
   "outputs": [],
   "source": [
    "##create 2x2 table\n",
    "Example_2<-as.table(matrix(c(20,10,30,40), nrow=2, ncol=2, dimnames=list(c(\"Centrifuged\", \"Noncentrifuged\" ),c(\"Growth:Yes\", \"Growth:No\"))))\n",
    "\n",
    "\n",
    "###tables can also be created from individual data using the function table()\n",
    "Example_2\n",
    "\n",
    "##H0: no association between growth and centrifugation in the population; p1-p2=0\n",
    "##Ha: association between growth and centrifugation the population p1-p2=0\n",
    "\n",
    "#incidence of combined morbidity index\n",
    "n1=Example_2[1,2]+Example_2[1,1]\n",
    "n2=Example_2[2,1]+Example_2[2,2]\n",
    "incidence_centrifuged=Example_2[1,1]/n1  ####p1\n",
    "incidence_noncentrifuged=Example_2[2,1]/n2  ####p2\n",
    "incidence_centrifuged\n",
    "incidence_noncentrifuged\n"
   ]
  },
  {
   "cell_type": "code",
   "execution_count": null,
   "metadata": {},
   "outputs": [],
   "source": [
    "###Chi-square test\n",
    "Test_2=chisq.test(Example_2, correct=F)\n",
    "Test_2\n",
    "#often times, we use something called continuity correction when we are using a continuous function (like the Chi-square) to approximate a discrete function (like binomial)\n",
    "# to enable continuity correction, change Test=chisq.test(Ex1, correct=T)"
   ]
  },
  {
   "cell_type": "code",
   "execution_count": null,
   "metadata": {},
   "outputs": [],
   "source": [
    "####check assumptions, expected count at least 80% of cells >5: \n",
    "Test_2$expected\n",
    "#all cells are greater than 5\n",
    "\n",
    "#df=(r-1)*(c-1)=(2-1)*(2-1)=1\n",
    "#Test statistic=4.7619\n",
    "#p-value is P(X^2>7.101)=.0291\n",
    "#this p-value can also be found this way: 1-pchisq(4.7619,1)\n"
   ]
  },
  {
   "cell_type": "markdown",
   "metadata": {},
   "source": [
    "Here our p-value is smaller, so we reject $H_0$ and say there is an association \n",
    "between growth and centrifugation.\n",
    "\n"
   ]
  },
  {
   "cell_type": "markdown",
   "metadata": {},
   "source": [
    "### Example: Small Counts\n",
    "\n",
    "Problem: Sodium polystyrene in sorbitol is suspected of causing an adverse reaction leading to colonic necrosis.  Is there an association between drug and colonic necrosis in the population?\n",
    "\n",
    "Data: A study compared the incidence of colonic necrosis in 117 Kayexelate-exposed and 862\n",
    "nonexposed postsurgical patients.  Two cases occurred in the kayexelate-exposed group (Group 1); No cases occurred in the nonexposed group\n",
    "\n",
    "Example Kayexelate and colonic necrosis: one-sided test (Basic Biostatistics: Statistics for Public Health Practice 17.3)\n"
   ]
  },
  {
   "cell_type": "code",
   "execution_count": null,
   "metadata": {},
   "outputs": [],
   "source": [
    "##create 2x2 table\n",
    "Example_3<-as.table(matrix(c(2,0,115,862), nrow=2, ncol=2, dimnames=list(c(\"Group1:exposed\", \"Group2:unexposed \"), c(\"Colonic Necrosis\", \"No Colonic Necrosis\" ))))\n",
    "Example_3"
   ]
  },
  {
   "cell_type": "code",
   "execution_count": null,
   "metadata": {},
   "outputs": [],
   "source": [
    "###incidence estimates\n",
    "n1=Example_3[1,2]+Example_3[1,1]\n",
    "n2=Example_3[2,1]+Example_3[2,2]\n",
    "incidence_exposed=Example_3[1,1]/n1  ####p1\n",
    "incidence_unexposed=Example_3[2,1]/n2  ####p2\n",
    "incidence_exposed\n",
    "incidence_unexposed\n",
    "\n",
    "##H0: no association between drug and colonic necrosis in the population; p1-p2=0\n",
    "##Ha: association between drug and colonic necrosisin the population p1-p2 >0\n"
   ]
  },
  {
   "cell_type": "code",
   "execution_count": null,
   "metadata": {},
   "outputs": [],
   "source": [
    "####check assumptions, expected count at least 80% of cells >5: \n",
    "Test_3=chisq.test(Example_3)\n",
    "Test_3$expected\n"
   ]
  },
  {
   "cell_type": "code",
   "execution_count": null,
   "metadata": {},
   "outputs": [],
   "source": [
    "###two cells <5...use fisher exact\n",
    "Test_3=fisher.test(Example_3, alternative=\"greater\")\n",
    "Test_3"
   ]
  },
  {
   "cell_type": "code",
   "execution_count": null,
   "metadata": {},
   "outputs": [],
   "source": [
    "?fisher.test"
   ]
  },
  {
   "cell_type": "markdown",
   "metadata": {},
   "source": [
    "p-value=.014, which is small, so we reject $H_0$ and say that there is an adverse association \n",
    "between drug and colonic necrosisin the population.\n",
    "\n",
    "There is a difference in the proportions of colonic necrosis between those exposed \n",
    "to the drug and those not. The evidence is strong that those exposed to the drug versus \n",
    "those that are not are not equally likely to have colonic neccrosisin."
   ]
  },
  {
   "cell_type": "markdown",
   "metadata": {},
   "source": [
    "### Example: Paired Data\n",
    "\n",
    "Example Smoking and Mortality in Matched Data (Basic Biostatistics: Statistics for Public Health Practice 18.6)\n",
    "\n",
    "Problem: Smoking was first suspected as causing premature mortality.  The hypothesis is that people who are genetically disposed to risk taking and adverse health outcomes were more likely to smoke, and hence more likely to experience premature death. \n",
    "\n",
    "Data: 22 smoking-discordant monozygotic twins were studies to see which twin first succumbed to death.  The smoking-twin died first in 17 pairs and non-smoking died first in 5 instances\n"
   ]
  },
  {
   "cell_type": "code",
   "execution_count": null,
   "metadata": {},
   "outputs": [],
   "source": [
    "###create 2x2 table\n",
    "Example_4<-as.table(matrix(c(0,5,17,0), nrow=2, ncol=2, dimnames=list(c(\"Yes Died Smoking Twin\", \"No Died Smoking Twin \"), c(\"Yes Died Non-Smoking Twin\", \"No Died Non-Smoking Twin\" ))))\n",
    "###tables can also be created from individual data using the function table()\n",
    "###Normal Approximation Method: McNemar \n",
    "##H0: no association between smoking and earlier mortality in the population; \n",
    "##marginal probabilities for each outcome are the same p_a+p_b=p_c+p_d\n",
    "##Ha: association between smoking and earlier mortality in the population\n",
    "Example_4"
   ]
  },
  {
   "cell_type": "code",
   "execution_count": null,
   "metadata": {},
   "outputs": [],
   "source": [
    "#Check assumption b+c>20: 5+17>20 \n",
    "##without continuity correction\n",
    "mcnemar.test(Example_4, correct=F)\n",
    "#with continuity correction\n",
    "mcnemar.test(Example_4, correct=T)"
   ]
  },
  {
   "cell_type": "code",
   "execution_count": null,
   "metadata": {},
   "outputs": [],
   "source": [
    "#Test statistic: X^2=5.5\n",
    "#df=1\n",
    "#p-value=.01902\n",
    "#same as\n",
    "1-pchisq(5.5,1)\n",
    "#1-P(X^2<5.5)=P(X^2>5.5)"
   ]
  },
  {
   "cell_type": "markdown",
   "metadata": {},
   "source": [
    "So, we reject $H_0$ and say that there is an association between smoking and earlier mortality \n",
    "in the population.  The proportions of Dead Smoking twin and Dead non-smoking twin are different. \n",
    "\n",
    "### Using Binomial Exact Method"
   ]
  },
  {
   "cell_type": "code",
   "execution_count": null,
   "metadata": {},
   "outputs": [],
   "source": [
    "##H0: no association between smoking and earlier mortality in the population; \n",
    "#marginal probabilities for each outcome are the same p_a+p_b=p_c+p_d\n",
    "##Ha: association between smoking and earlier mortality in the population\n",
    "\n",
    "#number of discordant pairs n=17+5 Bernouilli Trials\n",
    "n=Example_4[1,2]+Example_4[2,1]\n",
    "n\n",
    "###proportion of positive discordancies\n",
    "p=Example_4[1,2]/n\n",
    "p\n",
    "###number of successes\n",
    "x=Example_4[1,2]\n",
    "x"
   ]
  },
  {
   "cell_type": "code",
   "execution_count": null,
   "metadata": {},
   "outputs": [],
   "source": [
    "###binomial test\n",
    "binom.test(x,n, alternative=c(\"two.sided\"))"
   ]
  },
  {
   "cell_type": "markdown",
   "metadata": {},
   "source": [
    "Based on our sample data, we are 95% confident that the true difference of proportions is between .5463 and .9218.\n",
    "p-value=.0169 which is slightly smaller than our chi-square approximation in McNemar's test."
   ]
  },
  {
   "cell_type": "markdown",
   "metadata": {
    "collapsed": true
   },
   "source": [
    "## What if your data is not normal?\n",
    "\n",
    "Many distributions in microbiology,such as colony counts and radioactivity counts, are very skewed. This violates the t-test assumptions.\n",
    "\n",
    "    1. Mathematical transformation (e.g. logarithmic for non-negative and non-zero distributions)\n",
    "    2. Non-parametric equivalents\n",
    "    \n",
    "### Example: Paired Data (Two Dependent Groups) using a Non-parametric test Wilcoxon Signed - Rank Test\n",
    "#### Comparison of Bacteria on Pairs of Cloths and Sponges Sampled on 10 Occasions \n",
    "\n",
    "Given  the  structural  and  compositional  differences  between  cloths  and  sponges,  a  study  was designed to  investigate  if  one  material  provided  a  more  favorable  environment  for  bacterial  survival  than  the  other. Data on the number of bacteria were collected on a cloth and sponge on each of 10 separate occasions. We do not have 2 independent samples. In this case, there is a connection between a particular cloth and sponge in that the data for each  pair  were  collected  on  a  specific  occasion. [citation](https://onlinelibrary.wiley.com/doi/book/10.1002/9780470905173)\n"
   ]
  },
  {
   "cell_type": "code",
   "execution_count": null,
   "metadata": {},
   "outputs": [],
   "source": [
    "Occasion<-c(seq(1,10,1),seq(1,10,1))\n",
    "\n",
    "Cloth<-c(1*10^4,3.3*10^7,5.7*10^7,1.9*10^7,1.2*10^4,8.8*10^2,2.6*10^6,3.3*10^7,8.7*10^6,7.6*10^7 )\n",
    "Sponge<-c(4.6*10^6,9.8*10^7,1.3*10^8,1.3*10^8,6.0*10^2,4.7*10^7,1.4*10^8,1.2*10^8,2.1*10^8,1.1*10^8 )\n",
    "Df2<-cbind(Occasion, Cloth, Sponge)\n",
    "colnames(Df2)<-c(\"Occasion\", \"Cloth\", \"Sponge\")\n",
    "Df2"
   ]
  },
  {
   "cell_type": "code",
   "execution_count": null,
   "metadata": {},
   "outputs": [],
   "source": [
    "wilcox.test(Cloth,Sponge, data=Df2,paired=TRUE)"
   ]
  },
  {
   "cell_type": "markdown",
   "metadata": {},
   "source": [
    "Interpretation: We can conclude that the median number of bacteria on sponges is significantly different from the median bacteria on cloths with a p-value = 0.0039."
   ]
  },
  {
   "cell_type": "markdown",
   "metadata": {},
   "source": [
    "## What about ordinal data? \n",
    "\n",
    "We have two independent groups or cultures randomly treated with and without cycloheximide. The growth of Chlamydia trachomatis can be categorized only subjectively (blinded) as 1 = no growth, 2 = minimal growth, 3 = moderate growth, and 4 = confluent growth. The results are as follows:"
   ]
  },
  {
   "cell_type": "code",
   "execution_count": null,
   "metadata": {},
   "outputs": [],
   "source": [
    "Example_5<-as.table(matrix(c(10,20,15,15,15,10,10,5), nrow=2, ncol=4, dimnames=list(c(\"Yes\", \"No\"), c(\"1 = no growth\", \"2 = minimal growth\",\"3 = moderate growth\",\"4 = confluent growth\" ))))\n",
    "Example_5\n"
   ]
  },
  {
   "cell_type": "code",
   "execution_count": null,
   "metadata": {},
   "outputs": [],
   "source": [
    "# Let's turn this into a dataset!\n",
    "Growth<-c(rep(1,10), rep(2,15), rep(3,15), rep(4,10),rep(1,20), rep(2,15), rep(3,10), rep(4,5))\n",
    "CultureGroups<-c(rep('Yes',50), rep('No',50))\n",
    "Df<-as.data.frame(cbind(as.numeric(Growth),CultureGroups))\n",
    "colnames(Df)<-c('Growth', 'CultureGroups')"
   ]
  },
  {
   "cell_type": "code",
   "execution_count": null,
   "metadata": {},
   "outputs": [],
   "source": [
    "library(lattice)\n",
    "\n",
    "histogram(~ factor(Growth, ordered=T) | CultureGroups,\n",
    "          data=Df,\n",
    "          layout=c(1,2)      #  columns and rows of individual plots\n",
    "          )"
   ]
  },
  {
   "cell_type": "markdown",
   "metadata": {},
   "source": [
    "#### Wilcoxon rank sum test (Mann Whitney U test):\n",
    "Assumptions:\n",
    "    \n",
    "    1. All the observations from both groups are independent of each other\n",
    "    2. The responses are at least ordinal\n",
    "    3. Under the null hypothesis $H_0$, the distributions of both populations are equal\n",
    "    4. The alternative hypothesis $H_a$ is that the distributions are not equal.\n",
    "    \n",
    "[Good explanation](https://sphweb.bumc.bu.edu/otlt/mph-modules/bs/bs704_nonparametric/bs704_nonparametric4.html)\n",
    "    \n",
    "    \n",
    "#### Our Alternative Hypothesis: The growth of those treated with cycloheximide is significantly different than those not treated"
   ]
  },
  {
   "cell_type": "code",
   "execution_count": null,
   "metadata": {},
   "outputs": [],
   "source": [
    "wilcox.test(as.numeric(Growth)~CultureGroups, data=Df)"
   ]
  },
  {
   "cell_type": "markdown",
   "metadata": {},
   "source": [
    "We can reject the null hypothesis and say that the differences between Growth for those treated with and without cycloheximide are significantly different."
   ]
  }
 ],
 "metadata": {
  "kernelspec": {
   "display_name": "R",
   "language": "R",
   "name": "ir"
  },
  "language_info": {
   "codemirror_mode": "r",
   "file_extension": ".r",
   "mimetype": "text/x-r-source",
   "name": "R",
   "pygments_lexer": "r",
   "version": "3.6.1"
  }
 },
 "nbformat": 4,
 "nbformat_minor": 2
}
