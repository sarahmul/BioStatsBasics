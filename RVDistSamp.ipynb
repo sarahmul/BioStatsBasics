{
 "cells": [
  {
   "cell_type": "markdown",
   "metadata": {},
   "source": [
    "# R for Data Analysis and Probability Functions\n"
   ]
  },
  {
   "cell_type": "code",
   "execution_count": null,
   "metadata": {},
   "outputs": [],
   "source": [
    "library(gtools)\n",
    "#install.packages(\"moments\")\n",
    "library(moments)"
   ]
  },
  {
   "cell_type": "markdown",
   "metadata": {},
   "source": [
    "## Random Variables (R.V.)\n",
    "* A random variable, usually written X, is a variable whose possible values are numerical outcomes of a random phenomenon.\n",
    "* A random variable is always denoted with an upper case\n",
    "* An observed variable is denoted with a lower case\n",
    "\n",
    "### There are two types of random variables:\n",
    "\n",
    "* **Discrete random variable**: Takes on a finite (or countably infinite) number of values. ex) average height of 100 people\n",
    "* **Continuous random variable**: Takes on an interval of values (uncountably infinite values) ex) number of people present in this class\n",
    "\n",
    "\n"
   ]
  },
  {
   "cell_type": "markdown",
   "metadata": {},
   "source": [
    "## Discrete\n",
    "### Distribution of Discrete RV\n",
    "* The distribution of a discrete random variable is described by a collection of possible distinct outcomes and their associated probabilities. \n",
    "* It is described by the probability mass function (PMF) and the cumulative distribution function (CDF).\n"
   ]
  },
  {
   "cell_type": "markdown",
   "metadata": {},
   "source": [
    "## Example 1: Binomial Distribution\n",
    "\n",
    "A binomial random variable counts how often a particular event occurs in a fixed number of tries or trials. This is usually likened to a coin flip or True verses False. For a variable to be a binomial random variable, ALL of the following conditions must be met:\n",
    "\n",
    "* There are a fixed number of trials (a fixed sample size).\n",
    "* On each trial, the event of interest either occurs (success) or does not (failure).\n",
    "* The probability of occurrence (or not) is the same on each trial.\n",
    "* Trials are independent of one another.\n",
    "\n",
    "Example: Number of left-handers in a randomly selected sample of 50 unrelated people\n",
    "\n",
    "You need:\n",
    "* n=number of trials (sample size)\n",
    "* p= probability event occurs on any one trial\n",
    "\n",
    "$$P(X=x)={{n}\\choose{x}} p^x (1-p)^{n-x}$$\n",
    "for $x=0, 1, 2,..., n$ where $ {{n}\\choose{x}}=\\frac{n!}{x!(n-x)!}$"
   ]
  },
  {
   "cell_type": "code",
   "execution_count": null,
   "metadata": {},
   "outputs": [],
   "source": [
    "#Generate N=15 independent binomial random variables with n=5 trials and probability p=.6\n",
    "rbinom(15, 5,.6 ) ## this means that out of 5 trials we either get a success or we do not with a probability of 0.6"
   ]
  },
  {
   "cell_type": "code",
   "execution_count": null,
   "metadata": {},
   "outputs": [],
   "source": [
    "#What if we up the probability to p=0.99 for getting a success?\n",
    "\n",
    "rbinom(15, 5,.99 )"
   ]
  },
  {
   "cell_type": "code",
   "execution_count": null,
   "metadata": {},
   "outputs": [],
   "source": [
    "# Probability distribution\n",
    "#Generate a sample of N=10,000 with n=7 trials and a probability of success p=.3\n",
    "X=rbinom(10000,7, .3)\n",
    "\n",
    "#X\n",
    "# Barplot of the probability distribution \n",
    "## Why barplot and not a histogram??\n",
    "# If I sample 10,000 numbers from Bin(n=7, p=.3), what does the distribution look like?\n",
    "barplot(table(X))\n"
   ]
  },
  {
   "cell_type": "code",
   "execution_count": null,
   "metadata": {},
   "outputs": [],
   "source": [
    "##distribution: this gives you the probability of x=0,1,2,3,4,5,6,7\n",
    "dbinom(0:7, 7, .3)\n",
    "#note: these outputs are between 0 and 1 and are probabilities! ie) a single point/outcome has probability"
   ]
  },
  {
   "cell_type": "code",
   "execution_count": null,
   "metadata": {},
   "outputs": [],
   "source": [
    "#check our assumption that the probabilities sum to 1!\n",
    "sum(dbinom(0:7, 7, .3))\n"
   ]
  },
  {
   "cell_type": "code",
   "execution_count": null,
   "metadata": {},
   "outputs": [],
   "source": [
    "#Example: What is the probability of exactly 2 successes (P(X=2)) for a binomial distribution Bin(n=7, p=.3)? \n",
    "dbinom(2,7,.3) #calculate using R\n",
    "#choose(7,2)*(.3^2)*(.7^5) #calculate by hand"
   ]
  },
  {
   "cell_type": "markdown",
   "metadata": {},
   "source": [
    "### Describing our distribution:\n",
    "#### Population Mean of Binomial Distribution: $E(x)=n*p$\n",
    "#### Population Variance of Binomial Distribution: $Var(x)=n*p(1-p)$\n",
    "#### Population Standard deviation of Binomial Distribution: $sd(x)=\\sqrt{ n*p(1-p)}$"
   ]
  },
  {
   "cell_type": "code",
   "execution_count": null,
   "metadata": {},
   "outputs": [],
   "source": [
    "#sample mean\n",
    "mean(X) \n",
    "7*.3\n",
    "#sample variance\n",
    "var(X)\n",
    "7*.3*(1-.3)\n",
    "#sample standard deviation\n",
    "sd(X)\n",
    "sqrt(7*.3*(1-.3))"
   ]
  },
  {
   "cell_type": "markdown",
   "metadata": {},
   "source": [
    "#### With a large sample our expected mean and variance for the population are close to our sample mean and variance!\n",
    "\n",
    "#### What happens when we have a smaller sample?\n"
   ]
  },
  {
   "cell_type": "code",
   "execution_count": null,
   "metadata": {},
   "outputs": [],
   "source": [
    "#Sample of 10\n",
    "X_10=rbinom(10,7, .3)\n",
    "#sample mean\n",
    "mean(X_10)\n",
    "7*.3\n",
    "#sample variance\n",
    "var(X_10)\n",
    "7*.3*(1-.3)\n",
    "#sample standard deviation\n",
    "sd(X_10)\n",
    "sqrt(7*.3*(1-.3))"
   ]
  },
  {
   "cell_type": "markdown",
   "metadata": {
    "collapsed": true
   },
   "source": [
    "## Continuous \n",
    "### Distribution of Continuous RV\n",
    "* The distribution of a continuous random variable is described by its probability density function (PDF). You can find the probability between two constants by adding up the area under the density curve. \n",
    "\n",
    "* Note: Unlike discrete random variables where we can determine $P(X=x)$ for all possible values of x and get a probability for a point, the probability that X takes on any particular value x is 0 for continuous random variables. AKA. We can't find $P(X=x)$!\n",
    "\n",
    "* Instead, we find the probability that $X$ falls into some interval $(a,b)$ ie. $P(a<X<b)$.  We can use the PDF to do this!\n",
    "\n",
    "### Probability Density Function (PDF) and Cumulative Distribution Function (CDF)\n",
    "* PDF is denoted by $f_X(x)$\n",
    "* CDF is denoted by $F_X(x)$\n",
    "\n",
    "Outputs of $f_X(x)$ are NOT probabilities!\n",
    "\n",
    "### Describing A Distribution:\n",
    "* E(x)=Expected Value ($\\mu$)= mean of a random variable X \n",
    "* Var(x)= Variance ($\\sigma^2$)= how far a set of numbers is spread out from their average value\n",
    "* Skewness=measure of lack of symmetry\n",
    "* Kurtosis=how tall and sharp the central peak is\n",
    "* Median=midpoint\n"
   ]
  },
  {
   "cell_type": "markdown",
   "metadata": {},
   "source": [
    "## Example 2: Normal (Gaussian) Distribution\n",
    "\n",
    "$$f_X(x)=\\frac{1}{{\\sigma \\sqrt{2\\pi } }}  e^{\\frac{ - ( x - \\mu )^2} {2\\sigma^2}} $$\n",
    "\n",
    "where $-\\infty<x<\\infty$.\n",
    "\n",
    "Mean=$\\mu$ and $\\mu\\in\\mathbb{R}$ \n",
    "\n",
    "Variance=$\\sigma^2$ and $\\sigma^2>0$ \n",
    "\n",
    "* Standard normal distribution has $\\mu=0$ and $\\sigma=1$"
   ]
  },
  {
   "cell_type": "code",
   "execution_count": null,
   "metadata": {},
   "outputs": [],
   "source": [
    "#Generate N=15 independent normal random variables with mean=20 and sd=8 \n",
    "N_15=rnorm(15, mean=20,sd=8 ) \n",
    "N_15"
   ]
  },
  {
   "cell_type": "code",
   "execution_count": null,
   "metadata": {},
   "outputs": [],
   "source": [
    "#What is the mean of our sample?\n",
    "mean(N_15) #Is this close to E(x)=20?\n"
   ]
  },
  {
   "cell_type": "code",
   "execution_count": null,
   "metadata": {},
   "outputs": [],
   "source": [
    "#What is the variance of our sample? The standard deviation?\n",
    "var(N_15) \n",
    "sd(N_15) "
   ]
  },
  {
   "cell_type": "code",
   "execution_count": null,
   "metadata": {},
   "outputs": [],
   "source": [
    "#What is the skewness and kurtosis of our sample?\n",
    "skewness(N_15) #skewness of normal distribution is 0!\n",
    "#negative indicates skewed left, positive indicates skewed right\n",
    "kurtosis(N_15) #kurtosis of normal distribution should be near 3"
   ]
  },
  {
   "cell_type": "code",
   "execution_count": null,
   "metadata": {},
   "outputs": [],
   "source": [
    "#plot a histogram of the distribution of our sample\n",
    "h<-hist(N_15, breaks=5, col=\"blue\", xlab=\"Simulation\", \n",
    "  \tmain=\"Histogram with Normal Curve\") \n",
    "xfit<-seq(min(N_15),max(N_15),length=15) \n",
    "yfit<-dnorm(xfit,mean=20,sd=8) \n",
    "yfit <- yfit*diff(h$mids[1:2])*length(N_15) \n",
    "lines(xfit, yfit, col=\"green\", lwd=2) #normal curve\n",
    "\n"
   ]
  },
  {
   "cell_type": "code",
   "execution_count": null,
   "metadata": {},
   "outputs": [],
   "source": [
    "#Now generate N=10000 independent normal random variables with mean=20 and sd=8\n",
    "N_big=rnorm(10000, mean=20, sd=8)\n"
   ]
  },
  {
   "cell_type": "code",
   "execution_count": null,
   "metadata": {},
   "outputs": [],
   "source": [
    "#What is the mean of our sample?\n",
    "mean(N_big) #Is this close to E(x)=20?\n",
    "\n",
    "### This is called the law of large numbers!  \n",
    "#The average of the results obtained from a large number of \n",
    "#trials should be close to the expected value"
   ]
  },
  {
   "cell_type": "code",
   "execution_count": null,
   "metadata": {},
   "outputs": [],
   "source": [
    "#What is the variance of our sample?\n",
    "var(N_big)\n",
    "sd(N_big) "
   ]
  },
  {
   "cell_type": "code",
   "execution_count": null,
   "metadata": {},
   "outputs": [],
   "source": [
    "#What is the skewness and kurtosis of our sample?\n",
    "skewness(N_big) #skewness of normal distribution is 0!\n",
    "#negative indicates skewed left, positive indicates skewed right\n",
    "kurtosis(N_big) #kurtosis of normal distribution is near 3"
   ]
  },
  {
   "cell_type": "code",
   "execution_count": null,
   "metadata": {},
   "outputs": [],
   "source": [
    "#plot a histogram of the distribution of our sample\n",
    "h_big<-hist(N_big, breaks=50, col=\"blue\", xlab=\"Simulation\", \n",
    "  \tmain=\"Histogram with Normal Curve\") \n",
    "#xfit<-seq(min(N_big),max(N_big),length=10000) \n",
    "#yfit<-dnorm(xfit,mean=20,sd=8) \n",
    "#yfit <- yfit*diff(h$mids[1:2])*length(N_big) \n",
    "#lines(xfit, yfit, col=\"green\", lwd=2) #normal curve"
   ]
  },
  {
   "cell_type": "markdown",
   "metadata": {},
   "source": [
    "### The Law of Large Numbers\n",
    "1. The average of many independent samples is (with high probability) close to the mean of the underlying distribution. \n",
    "    * We saw this!! The average of the samples was close to E(x)!\n",
    "2. This density histogram of many independent samples is (with high probability) close to the graph of the density of the underlying distribution.\n",
    "    * We also saw this!! The histogram and the blue line match up!"
   ]
  },
  {
   "cell_type": "markdown",
   "metadata": {},
   "source": [
    "## Central Limit Theorem Example (CLT)\n",
    "\n",
    "### Central Limit Theorem\n",
    "If the sample size n is \"sufficiently large,\" then:\n",
    "\n",
    "(1) the sample mean $\\bar{X}=\\frac{\\sum_{i=1}^n}{n} X_i$ follows an approximate normal distribution\n",
    "\n",
    "(2) with mean $E(\\bar{X})=\\mu$\n",
    "\n",
    "(3) and variance $Var(\\bar{X})=\\frac{\\sigma^2}{n}$\n",
    "\n",
    "We write:\n",
    "\n",
    " $$\\bar{X}⟶N(\\mu,\\frac{\\sigma^2}{n})\\ as \\ n\\rightarrow\\infty$$\n",
    " \n",
    " ### Example\n",
    " \n",
    "Let X be the random variable associated to drawing a fair dice with outcomes 1,2,3,4,5,6. Suppose $X_1, · · · , X_{30}$ be i.i.d as X.\n",
    "\n",
    " \n",
    "a) X is a discrete random variable\n",
    "\n",
    "the mean of X: $\\mu=\\sum_{i=1}^6 (i)(\\frac{1}{6})=3.5$\n",
    "\n",
    "the variance of X: $\\sigma^2=\\sum_{i=1}^6 (x_i -\\mu)^2 p_i=\\frac{1}{6}\\sum_{i=1}^6 (x_i -3.5)^2$=3.5\n",
    "\n",
    "By the central limit theorem, for large n:  $$\\bar{X}\\sim N(\\mu,\\frac{\\sigma^2}{n})=N(3.5,\\frac{3.5}{30}=0.117)$$\n",
    "\n",
    "\n",
    "a) Find the distribution of the random variable $\\bar{X}$ using CLT.\n",
    "Plot this distribution."
   ]
  },
  {
   "cell_type": "code",
   "execution_count": null,
   "metadata": {},
   "outputs": [],
   "source": [
    "x=seq(2.5,4.5,0.001)"
   ]
  },
  {
   "cell_type": "code",
   "execution_count": null,
   "metadata": {},
   "outputs": [],
   "source": [
    "plot(x,dnorm(x,mean=3.5,sd=0.34),type='l',main='The distribution of the sample mean using CLT')"
   ]
  },
  {
   "cell_type": "markdown",
   "metadata": {},
   "source": [
    "b)This time do not use the CLT, instead by running a simulation in R find the mean and variance \n",
    "of $\\bar{X}$. You can use the “sample” function in R to roll your dice!"
   ]
  },
  {
   "cell_type": "code",
   "execution_count": null,
   "metadata": {},
   "outputs": [],
   "source": [
    "barX=rep(0,1000)\n",
    "for (i in 1:1000){barX[i]=mean(sample(1:6,30,replace=T))}\n",
    "mean(barX)\n",
    "var(barX)"
   ]
  },
  {
   "cell_type": "markdown",
   "metadata": {},
   "source": [
    "c) Plot the distribution found in the first and second part in the same graph."
   ]
  },
  {
   "cell_type": "code",
   "execution_count": null,
   "metadata": {},
   "outputs": [],
   "source": [
    "hist(barX,freq=NULL, col=\"Green\")\n",
    "par(new=TRUE)\n",
    "plot(x,dnorm(x,mean=3.5,sd=0.34),type='l', xaxt=\"n\", yaxt=\"n\", xlab=\"\", ylab=\"\", col=\"purple\")"
   ]
  }
 ],
 "metadata": {
  "kernelspec": {
   "display_name": "R",
   "language": "R",
   "name": "ir"
  },
  "language_info": {
   "codemirror_mode": "r",
   "file_extension": ".r",
   "mimetype": "text/x-r-source",
   "name": "R",
   "pygments_lexer": "r",
   "version": "3.6.1"
  }
 },
 "nbformat": 4,
 "nbformat_minor": 2
}
